{
 "cells": [
  {
   "cell_type": "markdown",
   "id": "1aea7c91-46ce-4f4a-82c8-9cee56071e24",
   "metadata": {
    "deletable": false,
    "editable": false
   },
   "source": [
    "#### **예제 1 : list와 함께 사용하는 for문**\n"
   ]
  },
  {
   "cell_type": "code",
   "execution_count": null,
   "id": "7b4240d2-667a-4cda-9809-f38f1df2c315",
   "metadata": {
    "tags": [
     "jce.problems.5.예제_1_list와_함께_사용하는_for문"
    ]
   },
   "outputs": [],
   "source": [
    "# 예제_1_list와_함께_사용하는_for문\n",
    "\n",
    "for i in [1,2,3]:\n",
    "    print(I)"
   ]
  },
  {
   "cell_type": "markdown",
   "id": "a90a7794-dee9-4b15-82de-f6be342a69c4",
   "metadata": {
    "deletable": false,
    "editable": false
   },
   "source": [
    "#### 예제 1 해설\n",
    ">리스트 [1,2,3] 내부의 요소들이 하나씩 순서대로 변수 i에 대입됩니다.   \n",
    "i에 요소가 대입될 때마다 for문 아래 들여쓰기 된 코드가 실행되고, 실행이 완료되면 다음 요소가 대입되며 다시 코드가 실행되는 과정이 반복됩니다.  \n",
    "첫번째 반복에서 변수 i는 1, 두번째 반복에서는 2, 세번째 반복에서는 3이 됩니다.  "
   ]
  },
  {
   "cell_type": "markdown",
   "id": "5cba8c56-4741-4b78-9a06-cab37ce5b9d4",
   "metadata": {
    "deletable": false,
    "editable": false,
    "tags": []
   },
   "source": [
    "### **💯 연습문제를 풀어봅시다**\n",
    "1. <a class=\"jcecodle-mk jcecodle-mk__problem-chip\" data-problem-id=\"oTXY4zvrBMU\" href='#jce-judge/open/oTXY4zvrBMU' target='_self'><span>양수만 출력하기_빈칸</span></a>\n",
    "<a class=\"jcecodle-mk jcecodle-mk__problem-chip\" data-problem-id=\"tuSLVDtmh0g\" href='#jce-judge/open/tuSLVDtmh0g' target='_self'><span>양수만 출력하기</span></a>\n"
   ]
  },
  {
   "cell_type": "markdown",
   "id": "d1d5c25e-7d9a-4fe8-9fc6-8b85866e76d8",
   "metadata": {
    "deletable": false,
    "editable": false
   },
   "source": [
    "#### **예제 2 : 문자열과 함께 사용하는 for문**\n"
   ]
  },
  {
   "cell_type": "code",
   "execution_count": null,
   "id": "1a8d4f18-cd0d-43eb-9ee2-4ee3520a1da8",
   "metadata": {
    "tags": [
     "jce.problems.5.예제_2_문자열과_함께_사용하는_for문"
    ]
   },
   "outputs": [],
   "source": [
    "# 예제_2_문자열과_함께_사용하는_for문\n",
    "\n",
    "for i in 'Codle':\n",
    "    print(i)"
   ]
  },
  {
   "cell_type": "markdown",
   "id": "4e79018c-6af4-42bc-9adc-29048462a75a",
   "metadata": {
    "deletable": false,
    "editable": false,
    "jp-MarkdownHeadingCollapsed": true,
    "tags": []
   },
   "source": [
    "#### 예제 2 해설\n",
    ">문자열 'Codle' 내부의 요소들이 하나씩 변수 i에 대입됩니다.     \n",
    "첫 번째 반복에서 변수 i는 문자열 C, 두 번째에는 문자열 o, 이후 각각 문자열 d, l, e 순서로 바뀌게 됩니다."
   ]
  },
  {
   "cell_type": "markdown",
   "id": "076efb3e-363e-4093-af7d-32ee23968985",
   "metadata": {
    "deletable": false,
    "editable": false
   },
   "source": [
    "### **💯 연습문제를 풀어봅시다**\n",
    "2. <a class=\"jcecodle-mk jcecodle-mk__problem-chip\" data-problem-id=\"8ma7rlFOXAg\" href='#jce-judge/open/8ma7rlFOXAg' target='_self'><span>온점의 개수_빈칸</span></a>\n",
    "<a class=\"jcecodle-mk jcecodle-mk__problem-chip\" data-problem-id=\"eL41en1SNus\" href='#jce-judge/open/eL41en1SNus' target='_self'><span>온점의 개수</span></a>"
   ]
  },
  {
   "cell_type": "markdown",
   "id": "75740d6d-328f-4d99-802f-6af0372c2b35",
   "metadata": {
    "deletable": false,
    "editable": false
   },
   "source": [
    "#### **예제 3 : 반복문 없이 Codle 10번 출력하기**\n"
   ]
  },
  {
   "cell_type": "code",
   "execution_count": null,
   "id": "0816e737-3d6f-4785-b3c3-2b70a3963c4a",
   "metadata": {
    "tags": [
     "jce.problems.5.예제_3_반복문_없이_Codle_10번_출력하기"
    ]
   },
   "outputs": [],
   "source": [
    "# 예제_3_반복문_없이_Codle_10번_출력하기 \n",
    "\n",
    "print(\"Codle\")\n",
    "print(\"Codle\")\n",
    "print(\"Codle\")\n",
    "print(\"Codle\")\n",
    "print(\"Codle\")\n",
    "print(\"Codle\")\n",
    "print(\"Codle\")\n",
    "print(\"Codle\")\n",
    "print(\"Codle\")\n",
    "print(\"Codle\")"
   ]
  },
  {
   "cell_type": "markdown",
   "id": "9d5df301-8be2-4642-aa84-c0cb41d55793",
   "metadata": {
    "deletable": false,
    "editable": false
   },
   "source": [
    "#### 예제 3-1 해설\n",
    "> 위 코드는 print('Codle')을 10번 반복 작성하여 실현한 코드입니다.   \n",
    "그러나 만일 Codle을 100번 출력하는 문제였다면, 붙여넣기를 하더라도 코드를 100번 작성하는게 쉽지 않겠죠?      \n",
    "이럴때 반복문을 활용한다면 코드를 쉽게 작성할 수 있습니다!"
   ]
  }
 ],
 "metadata": {
  "kernelspec": {
   "display_name": "Python 3 (ipykernel)",
   "language": "python",
   "name": "python3"
  },
  "language_info": {
   "codemirror_mode": {
    "name": "ipython",
    "version": 3
   },
   "file_extension": ".py",
   "mimetype": "text/x-python",
   "name": "python",
   "nbconvert_exporter": "python",
   "pygments_lexer": "ipython3",
   "version": "3.10.10"
  },
  "read_only": true
 },
 "nbformat": 4,
 "nbformat_minor": 5
}
